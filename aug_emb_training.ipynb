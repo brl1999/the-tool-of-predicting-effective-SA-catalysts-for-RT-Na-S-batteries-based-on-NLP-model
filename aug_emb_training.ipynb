{
 "cells": [
  {
   "cell_type": "code",
   "execution_count": 1,
   "metadata": {},
   "outputs": [],
   "source": [
    "import torch\n",
    "import re\n",
    "import pandas as pd\n",
    "from torch.nn import functional as F\n",
    "from normalize_text import normalize\n",
    "from transformers import AutoModel, AutoTokenizer"
   ]
  },
  {
   "cell_type": "code",
   "execution_count": 2,
   "metadata": {},
   "outputs": [],
   "source": [
    "from utils import *"
   ]
  },
  {
   "attachments": {},
   "cell_type": "markdown",
   "metadata": {},
   "source": [
    "# 1. Load raw data"
   ]
  },
  {
   "cell_type": "code",
   "execution_count": 3,
   "metadata": {},
   "outputs": [
    {
     "name": "stderr",
     "output_type": "stream",
     "text": [
      "Some weights of the model checkpoint at m3rg-iitd/matscibert were not used when initializing BertModel: ['cls.predictions.transform.LayerNorm.weight', 'cls.predictions.decoder.weight', 'cls.predictions.transform.dense.weight', 'cls.predictions.transform.LayerNorm.bias', 'cls.predictions.transform.dense.bias', 'cls.predictions.decoder.bias', 'cls.predictions.bias']\n",
      "- This IS expected if you are initializing BertModel from the checkpoint of a model trained on another task or with another architecture (e.g. initializing a BertForSequenceClassification model from a BertForPreTraining model).\n",
      "- This IS NOT expected if you are initializing BertModel from the checkpoint of a model that you expect to be exactly identical (initializing a BertForSequenceClassification model from a BertForSequenceClassification model).\n",
      "Some weights of BertModel were not initialized from the model checkpoint at m3rg-iitd/matscibert and are newly initialized: ['bert.pooler.dense.weight', 'bert.pooler.dense.bias']\n",
      "You should probably TRAIN this model on a down-stream task to be able to use it for predictions and inference.\n"
     ]
    }
   ],
   "source": [
    "tokenizer = AutoTokenizer.from_pretrained('m3rg-iitd/matscibert')\n",
    "model = AutoModel.from_pretrained('m3rg-iitd/matscibert')"
   ]
  },
  {
   "cell_type": "code",
   "execution_count": 4,
   "metadata": {},
   "outputs": [],
   "source": [
    "max_length = 128\n",
    "base_path = './abs_data/'"
   ]
  },
  {
   "cell_type": "code",
   "execution_count": 5,
   "metadata": {},
   "outputs": [],
   "source": [
    "nas_csv_file = \"./abs_data/TITLE-ABS-KEY ( room-temperature AND sodium-sulfur AND batteries ) AND ( DOCTYPE ( ar ) )_1.csv\"\n",
    "lis_csv_file = \"./abs_data/TITLE-ABS-KEY (  lithium-sulfur AND electrocatalysts) AND ( DOCTYPE ( ar ) )_1.csv\"\n",
    "sa_csv_file = \"./abs_data/TITLE-ABS-KEY ( single-atom AND electrocatalysts ) AND ( DOCTYPE ( ar ) )_1.csv\"\n",
    "lissa_csv_file = r\"./abs_data/Li-S SA_1.csv\"\n",
    "irrelevant1_csv_file = r'./abs_data/Low_relevant_1.csv'\n",
    "irrelevant2_csv_file = r'./abs_data/Low_relevant_2.csv'"
   ]
  },
  {
   "cell_type": "code",
   "execution_count": 6,
   "metadata": {},
   "outputs": [],
   "source": [
    "nas_df, nas_list = load_csv_abstracts(nas_csv_file)\n",
    "lis_df, lis_list = load_csv_abstracts(lis_csv_file)\n",
    "lissa_df, lissa_list = load_csv_abstracts(lissa_csv_file)\n",
    "sa_df, sa_list = load_csv_abstracts(sa_csv_file)\n",
    "\n",
    "ir1_df, ir1_list = load_csv_abstracts(irrelevant1_csv_file)\n",
    "ir2_df, ir2_list = load_csv_abstracts(irrelevant2_csv_file)"
   ]
  },
  {
   "attachments": {},
   "cell_type": "markdown",
   "metadata": {},
   "source": [
    "Check duplicate abstracts"
   ]
  },
  {
   "cell_type": "code",
   "execution_count": 7,
   "metadata": {},
   "outputs": [
    {
     "data": {
      "text/plain": [
       "((1218, 4), (312, 4), (81, 4))"
      ]
     },
     "execution_count": 7,
     "metadata": {},
     "output_type": "execute_result"
    }
   ],
   "source": [
    "sa_df.shape, lis_df.shape, lissa_df.shape"
   ]
  },
  {
   "cell_type": "code",
   "execution_count": 8,
   "metadata": {},
   "outputs": [
    {
     "data": {
      "text/plain": [
       "(Index(['title', 'abs', 'pub', 'doi'], dtype='object'), (1611, 4))"
      ]
     },
     "execution_count": 8,
     "metadata": {},
     "output_type": "execute_result"
    }
   ],
   "source": [
    "check_duplicate_df = pd.concat([sa_df, lis_df, lissa_df])\n",
    "check_duplicate_df.columns, check_duplicate_df.shape"
   ]
  },
  {
   "cell_type": "code",
   "execution_count": 9,
   "metadata": {},
   "outputs": [],
   "source": [
    "check_series = check_duplicate_df.duplicated(subset='doi', keep='last')\n",
    "sa_check_series = check_series[:sa_df.shape[0]]\n",
    "lis_check_series = check_series[sa_df.shape[0]:sa_df.shape[0] + lis_df.shape[0]]\n",
    "lissa_check_series = check_series[-lissa_df.shape[0]:]\n",
    "del check_duplicate_df"
   ]
  },
  {
   "cell_type": "code",
   "execution_count": 10,
   "metadata": {},
   "outputs": [
    {
     "name": "stdout",
     "output_type": "stream",
     "text": [
      "False    1198\n",
      "True       20\n",
      "dtype: int64\n"
     ]
    },
    {
     "data": {
      "text/plain": [
       "(1198, 4)"
      ]
     },
     "execution_count": 10,
     "metadata": {},
     "output_type": "execute_result"
    }
   ],
   "source": [
    "print(sa_check_series.value_counts())\n",
    "sa_df[sa_check_series==False].shape"
   ]
  },
  {
   "cell_type": "code",
   "execution_count": 11,
   "metadata": {},
   "outputs": [],
   "source": [
    "def remove_duplicate(check_series, df, abs_list):\n",
    "    print(check_series.value_counts())\n",
    "    new_df = df[check_series==False]\n",
    "    new_list = [] \n",
    "    for check, abs in zip(check_series, abs_list):\n",
    "        if check == False:\n",
    "            new_list.append(abs)\n",
    "    return new_df, new_list"
   ]
  },
  {
   "cell_type": "code",
   "execution_count": 12,
   "metadata": {},
   "outputs": [
    {
     "name": "stdout",
     "output_type": "stream",
     "text": [
      "False    1198\n",
      "True       20\n",
      "dtype: int64\n",
      "False    297\n",
      "True      15\n",
      "dtype: int64\n",
      "False    81\n",
      "dtype: int64\n"
     ]
    }
   ],
   "source": [
    "sa_df, sa_list = remove_duplicate(sa_check_series, sa_df, sa_list)\n",
    "lis_df, lis_list = remove_duplicate(lis_check_series, lis_df, lis_list)\n",
    "lissa_df, lissa_list = remove_duplicate(lissa_check_series, lissa_df, lissa_list)"
   ]
  },
  {
   "cell_type": "code",
   "execution_count": 13,
   "metadata": {},
   "outputs": [
    {
     "name": "stdout",
     "output_type": "stream",
     "text": [
      ">>> statistical info\n",
      "NaS: 202  |  LiS:  297  |  Sa:  1198  |  LiSSA: 81\n",
      "Irrelevant 1: 623  |  Irrelevant 2: 1234\n"
     ]
    }
   ],
   "source": [
    "print(\">>> statistical info\")\n",
    "print(\"NaS: {nas}  |  LiS:  {lis}  |  Sa:  {sa}  |  LiSSA: {lissa}\".\n",
    "        format(nas=len(nas_list), lis=len(lis_list), sa=len(sa_list), lissa=len(lissa_list)))\n",
    "print(\"Irrelevant 1: {ir1}  |  Irrelevant 2: {ir2}\".format(ir1=len(ir1_list), ir2=len(ir2_list)))"
   ]
  },
  {
   "cell_type": "code",
   "execution_count": 14,
   "metadata": {},
   "outputs": [],
   "source": [
    "# supply more data\n",
    "nssup_csv_file = r'./abs_data/ns_supply_more.csv'\n",
    "npsup_csv_file = r'./abs_data/np_supply_more.csv'\n",
    "othersup_csv_file = r'./abs_data/other_supply_more.csv'\n",
    "\n",
    "nssup_df, nssup_list = load_csv_abstracts(nssup_csv_file)\n",
    "npsup_df, npsup_list = load_csv_abstracts(npsup_csv_file)\n",
    "othersup_df, othersup_list = load_csv_abstracts(othersup_csv_file)"
   ]
  },
  {
   "attachments": {},
   "cell_type": "markdown",
   "metadata": {},
   "source": [
    "# 2. Retrieve MatSciBert Embeddings"
   ]
  },
  {
   "cell_type": "code",
   "execution_count": 15,
   "metadata": {},
   "outputs": [],
   "source": [
    "# if pre calculated\n",
    "emb_nas_list = torch.load('./embs/nas_list.pt')\n",
    "emb_sa_list = torch.load('./embs/sa_list.pt')\n",
    "emb_lis_list = torch.load('./embs/lis_list.pt')\n",
    "emb_lissa_list = torch.load('./embs/lissa_list.pt')\n",
    "emb_ir1_list = torch.load('./embs/ir1_list.pt')\n",
    "emb_ir2_list = torch.load('./embs/ir2_list.pt')"
   ]
  },
  {
   "cell_type": "code",
   "execution_count": 16,
   "metadata": {},
   "outputs": [],
   "source": [
    "# remove duplicate abstracts' embeddings\n",
    "def remove_duplicate_embs(check_series, emb_list):\n",
    "    new_list = [] \n",
    "    for check, emb in zip(check_series, emb_list):\n",
    "        if check == False:\n",
    "            new_list.append(emb)\n",
    "    return new_list\n",
    "emb_sa_list = remove_duplicate_embs(sa_check_series, emb_sa_list)\n",
    "emb_lis_list = remove_duplicate_embs(lis_check_series, emb_lis_list)"
   ]
  },
  {
   "cell_type": "code",
   "execution_count": null,
   "metadata": {},
   "outputs": [],
   "source": [
    "# # calculate other emebeddings\n",
    "# tokenized_lissa_list = [tokenize_sentences(lissa, tokenizer, max_length) for lissa in lissa_list]\n",
    "# tokenized_ir1_list = [tokenize_sentences(ir, tokenizer, max_length) for ir in ir1_list]\n",
    "# tokenized_ir2_list = [tokenize_sentences(ir, tokenizer, max_length) for ir in ir2_list]"
   ]
  },
  {
   "cell_type": "code",
   "execution_count": 18,
   "metadata": {},
   "outputs": [],
   "source": [
    "# emb_lissa_list = [get_sum_hidden_emb(tokenized_lissa, model) for tokenized_lissa in tokenized_lissa_list]\n",
    "# del tokenized_lissa_list"
   ]
  },
  {
   "cell_type": "code",
   "execution_count": 19,
   "metadata": {},
   "outputs": [],
   "source": [
    "# emb_ir1_list = [get_sum_hidden_emb(tokenized_ir, model) for tokenized_ir in tokenized_ir1_list]\n",
    "# del tokenized_ir1_list"
   ]
  },
  {
   "cell_type": "code",
   "execution_count": 20,
   "metadata": {},
   "outputs": [],
   "source": [
    "# emb_ir2_list = [get_sum_hidden_emb(tokenized_ir, model) for tokenized_ir in tokenized_ir2_list]\n",
    "# del tokenized_ir2_list"
   ]
  },
  {
   "cell_type": "code",
   "execution_count": 17,
   "metadata": {},
   "outputs": [],
   "source": [
    "nas_sa_list = []\n",
    "for i in range(1, 6):\n",
    "    nas_sa_list.append(load_paper_to_sentences(base_path + 'nasa_{i}.txt'.format(i=i)))\n",
    "tokenized_nas_sa_list = [tokenize_sentences(nasa, tokenizer, max_length) for nasa in nas_sa_list]\n",
    "emb_nas_sa_list = [get_sum_hidden_emb(tokenized_nasa, model) for tokenized_nasa in tokenized_nas_sa_list]"
   ]
  },
  {
   "cell_type": "code",
   "execution_count": 22,
   "metadata": {},
   "outputs": [],
   "source": [
    "# # retrieve data\n",
    "# tokenized_nssup_list = [tokenize_sentences(nssup, tokenizer, max_length) for nssup in nssup_list]\n",
    "# tokenized_npsup_list = [tokenize_sentences(npsup, tokenizer, max_length) for npsup in npsup_list]\n",
    "# tokenized_othersup_list = [tokenize_sentences(othersup, tokenizer, max_length) for othersup in othersup_list]"
   ]
  },
  {
   "cell_type": "code",
   "execution_count": 23,
   "metadata": {},
   "outputs": [],
   "source": [
    "# emb_nssup_list = [get_sum_hidden_emb(tokenized_nssup, model) for tokenized_nssup in tokenized_nssup_list]\n",
    "# emb_npsup_list = [get_sum_hidden_emb(tokenized_npsup, model) for tokenized_npsup in tokenized_npsup_list]\n",
    "# emb_othersup_list = [get_sum_hidden_emb(tokenized_othersup, model) for tokenized_othersup in tokenized_othersup_list]"
   ]
  },
  {
   "cell_type": "code",
   "execution_count": 24,
   "metadata": {},
   "outputs": [],
   "source": [
    "# torch.save(emb_nssup_list, './embs/nssup_list.pt')\n",
    "# torch.save(emb_npsup_list, './embs/npsup_list.pt')\n",
    "# torch.save(emb_othersup_list, './embs/othersup_list.pt')"
   ]
  },
  {
   "cell_type": "code",
   "execution_count": 18,
   "metadata": {},
   "outputs": [],
   "source": [
    "emb_nssup_list = torch.load('./embs/nssup_list.pt')\n",
    "emb_npsup_list = torch.load('./embs/npsup_list.pt')\n",
    "emb_othersup_list = torch.load('./embs/othersup_list.pt')"
   ]
  },
  {
   "attachments": {},
   "cell_type": "markdown",
   "metadata": {},
   "source": [
    "## supply more data"
   ]
  },
  {
   "cell_type": "code",
   "execution_count": 19,
   "metadata": {},
   "outputs": [],
   "source": [
    "sup_title = [\n",
    "    \"Tuning the Coordination Structure of CuNC Single Atom Catalysts for Simultaneous Electrochemical Reduction of CO2 and NO3– to Urea\",\n",
    "    \"Fluorine-tuned single-atom catalysts with dense surface Ni-N4 sites on ultrathin carbon nanosheets for efficient CO2 electroreduction\",\n",
    "    \"Insights on forming N,O-coordinated Cu single-atom catalysts for electrochemical reduction CO2 to methane\",\n",
    "    \"Coordination-tuned Fe single-atom catalyst for efficient CO2 electroreduction: The power of B atom\",\n",
    "    \"Axial coordination regulation of MOF-based single-atom Ni catalysts by halogen atoms for enhanced CO2 electroreduction\",\n",
    "    \"Engineering unsymmetrically coordinated Cu-S1N3 single atom sites with enhanced oxygen reduction activity\",\n",
    "    \"Tuning the Coordination Environment in Single-Atom Catalysts to Achieve Highly Efficient Oxygen Reduction Reactions\",\n",
    "    \"Fe Isolated Single Atoms on S, N Codoped Carbon by Copolymer Pyrolysis Strategy for Highly Efficient Oxygen Reduction Reaction\"\n",
    "]\n",
    "\n",
    "sup_doi = [\n",
    "    \"10.1002/aenm.202201500\",\n",
    "    \"10.1016/j.apcatb.2020.119591\",\n",
    "    \"10.1038/s41467-020-20769-x\",\n",
    "    \"10.1016/j.cej.2021.134270\",\n",
    "    \"10.1007/s12274-022-4467-3\",\n",
    "    \"10.1038/s41467-020-16848-8\",\n",
    "    \"10.1021/jacs.9b09352\",\n",
    "    \"10.1002/adma.201800588\"\n",
    "]"
   ]
  },
  {
   "cell_type": "code",
   "execution_count": 20,
   "metadata": {},
   "outputs": [],
   "source": [
    "sup_abs = [\n",
    "    r\"Closing both the carbon and nitrogen loops is a critical venture to support the establishment of the circular, net-zero carbon economy. Although single atom catalysts (SACs) have gained interest for the electrochemical reduction reactions of both carbon dioxide (CO2RR) and nitrate (NO3RR), the structure–activity relationship for Cu SAC coordination for these reactions remains unclear and should be explored such that a fundamental understanding is developed. To this end, the role of the Cu coordination structure is investigated in dictating the activity and selectivity for the CO2RR and NO3RR. In agreement with the density functional theory calculations, it is revealed that Cu-N4 sites exhibit higher intrinsic activity toward the CO2RR, whilst both Cu-N4 and Cu-N4−x-Cx sites are active toward the NO3RR. Leveraging these findings, CO2RR and NO3RR are coupled for the formation of urea on Cu SACs, revealing the importance of *COOH binding as a critical parameter determining the catalytic activity for urea production. To the best of the authors’ knowledge, this is the first report employing SACs for electrochemical urea synthesis from CO2RR and NO3RR, which achieves a Faradaic efficiency of 28% for urea production with a current density of −27 mA cm–2 at −0.9 V versus the reversible hydrogen electrode.\",\n",
    "    r\"A fluorine-tuned single-atom catalyst with an ultrathin nanosheet morphology (only ∼1.25 nm) and high Ni content of 5.92 wt% was fabricated by a polymer-assisted pyrolysis approach. The synthetic approach not only controls the establishment of the ultrathin nanosheet structure for achieving high surface communication, but also incorporates F dopants to manipulate the electronic structure of the metalloporphyrin-like active sites (Ni-N4). As a result, such catalyst with unique structural features exhibits a remarkable electrocatalytic performance for CO2-to-CO conversion with the Faradaic efficiency (FE) over 95 % in a wide potential range and an outstanding CO evolution rate of 1146 mmol gcat–1 h–1 at –0.97 V vs. RHE. The in situ attenuated total reflection-infrared spectroscopy (ATR-IR) and theoretical calculations further demonstrate that the F-doping modulates the electron configuration of the central Ni-N4 sites and thereby reduces the energy barrier for CO2 activation, which is favorable to the generation of the key *COOH intermediate.\",\n",
    "    r\"Single-atom catalysts (SACs) are promising candidates to catalyze electrochemical CO2 reduction (ECR) due to maximized atomic utilization. However, products are usually limited to CO instead of hydrocarbons or oxygenates due to unfavorable high energy barrier for further electron transfer on synthesized single atom catalytic sites. Here we report a novel partial-carbonization strategy to modify the electronic structures of center atoms on SACs for lowering the overall endothermic energy of key intermediates. A carbon-dots-based SAC margined with unique CuN2O2 sites was synthesized for the first time. The introduction of oxygen ligands brings remarkably high Faradaic efficiency (78%) and selectivity (99% of ECR products) for electrochemical converting CO2 to CH4 with current density of 40 mA·cm-2 in aqueous electrolytes, surpassing most reported SACs which stop at two-electron reduction. Theoretical calculations further revealed that the high selectivity and activity on CuN2O2 active sites are due to the proper elevated CH4 and H2 energy barrier and fine-tuned electronic structure of Cu active sites.\",\n",
    "    r\"Designing of effective electrocatalysts for electrocatalytic CO2 reduction into value-added chemicals is the key to reducing CO2 concentration and achieving carbon neutrality. However, achieving high activity and product selectivity simultaneously remains a significant challenge. Herein, a series of Fe single-atom catalysts coordinated by B atoms, namely FeBxCy (x + y = 3 or 4), are constructed to systematically investigate the electrocatalytic CO2 reduction reaction (CO2RR) based on density functional theory computations. Eight catalysts, including FeO4, are identified that can effectively activate CO2 molecules and significantly inhibit competitive hydrogen evolution reaction (HER). Among them, FeB2C and FeB2C2h (h represents a cis structure) show the higher CO2RR activity with the less negative limiting potentials of −0.24 and −0.40 V toward production of CH4, indicating the optimal content for doping B atoms. The activity mechanism shows that d-band center and magnetic moment of central Fe atom can be manipulated by rational modulating the coordinated B atoms to improve the CO2RR performance. By the coordinated B atom, an optimal adsorption strength of the reaction intermediates can be achieved on the FeBxCy surface, and thereby increasing CO2RR catalytic activity and product selectivity. FeB2C with more negative d-band center and the optimal Fe atomic magnetic moment shows the best CO2RR performance. These results reveal a great potential of coordination tuning for CO2RR, and provide a new theoretical perspective for rational design of high activity, selective CO2RR catalysts.\",\n",
    "    r\"Single-atom catalysts (SACs), with the utmost atom utilization, have attracted extensive interests for various catalytic applications. The coordination environment of SACs has been recognized to play a vital role in catalysis while their precise regulation at atomic level remains an immense challenge. Herein, a post metal halide modification (PMHM) strategy has been developed to construct Ni-N4 sites with axially coordinated halogen atoms, named Ni1N-C (X) (X = Cl, Br, and I), on pre-synthetic nitrogen-doped carbon derived from metal-organic frameworks. The axial halogen atoms with distinct electronegativity can break the symmetric charge distribution of planar Ni-N4 sites and regulate the electronic states of central Ni atoms in Ni1N-C (X) (X = Cl, Br, and I). Significantly, the Ni1N-C (Cl) catalyst, decorated with the most electronegative Cl atoms, exhibits Faradaic efficiency of CO up to 94.7% in electrocatalytic CO2 reduction, outperforming Ni1N-C (Br) and Ni1N-C (I) catalysts. Moreover, Ni1N-C (Cl) also presents superb performance in Zn-CO2 battery with ultrahigh CO selectivity and great durability. Theoretical calculations reveal that the axially coordinated Cl atom remarkably facilitates *COOH intermediate formation on single-atom Ni sites, thereby boosting the CO2 reduction performance of Ni1N-C (Cl). This work offers a facile strategy to tailor the axial coordination environments of SACs at atomic level and manifests the crucial role of axial coordination microenvironments in catalysis.\",\n",
    "    r\"Atomic interface regulation is thought to be an efficient method to adjust the performance of single atom catalysts. Herein, a practical strategy was reported to rationally design single copper atoms coordinated with both sulfur and nitrogen atoms in metal-organic framework derived hierarchically porous carbon (S-Cu-ISA/SNC). The atomic interface configuration of the copper site in S-Cu-ISA/SNC is detected to be an unsymmetrically arranged Cu-S1N3 moiety. The catalyst exhibits excellent oxygen reduction reaction activity with a half-wave potential of 0.918 V vs. RHE. Additionally, through in situ X-ray absorption fine structure tests, we discover that the low-valent Cuprous-S1N3 moiety acts as an active center during the oxygen reduction process. Our discovery provides a universal scheme for the controllable synthesis and performance regulation of single metal atom catalysts toward energy applications.\",\n",
    "    r\"Designing atomically dispersed metal catalysts for oxygen reduction reaction (ORR) is a promising approach to achieve efficient energy conversion. Herein, we develop a template-assisted method to synthesize a series of single metal atoms anchored on porous N,S-codoped carbon (NSC) matrix as highly efficient ORR catalysts to investigate the correlation between the structure and their catalytic performance. The structure analysis indicates that an identical synthesis method results in distinguished structural differences between Fe-centered single-atom catalyst (Fe-SAs/NSC) and Co-centered/Ni-centered single-atom catalysts (Co-SAs/NSC and Ni-SAs/NSC) because of the different trends of each metal ion in forming a complex with the N,S-containing precursor during the initial synthesis process. The Fe-SAs/NSC mainly consists of a well-dispersed FeN4S2 center site where S atoms form bonds with the N atoms. The S atoms in Co-SAs/NSC and Ni-SAs/NSC, on the other hand, form metal–S bonds, resulting in CoN3S1 and NiN3S1 center sites. Density functional theory (DFT) reveals that the FeN4S2 center site is more active than the CoN3S1 and NiN3S1 sites, due to the higher charge density, lower energy barriers of the intermediates, and products involved. The experimental results indicate that all three single-atom catalysts could contribute high ORR electrochemical performances, while Fe-SAs/NSC exhibits the highest of all, which is even better than commercial Pt/C. Furthermore, Fe-SAs/NSC also displays high methanol tolerance as compared to commercial Pt/C and high stability up to 5000 cycles. This work provides insights into the rational design of the definitive structure of single-atom catalysts with tunable electrocatalytic activities for efficient energy conversion.\",\n",
    "    r\"Heteroatom-doped Fe-NC catalyst has emerged as one of the most promising candidates to replace noble metal-based catalysts for highly efficient oxygen reduction reaction (ORR). However, delicate controls over their structure parameters to optimize the catalytic efficiency and molecular-level understandings of the catalytic mechanism are still challenging. Herein, a novel pyrrole–thiophene copolymer pyrolysis strategy to synthesize Fe-isolated single atoms on sulfur and nitrogen-codoped carbon (Fe-ISA/SNC) with controllable S, N doping is rationally designed. The catalytic efficiency of Fe-ISA/SNC shows a volcano-type curve with the increase of sulfur doping. The optimized Fe-ISA/SNC exhibits a half-wave potential of 0.896 V (vs reversible hydrogen electrode (RHE)), which is more positive than those of Fe-isolated single atoms on nitrogen codoped carbon (Fe-ISA/NC, 0.839 V), commercial Pt/C (0.841 V), and most reported nonprecious metal catalysts. Fe-ISA/SNC is methanol tolerable and shows negligible activity decay in alkaline condition during 15 000 voltage cycles. X-ray absorption fine structure analysis and density functional theory calculations reveal that the incorporated sulfur engineers the charges on N atoms surrounding the Fe reactive center. The enriched charge facilitates the rate-limiting reductive release of OH* and therefore improved the overall ORR efficiency.\"\n",
    "]"
   ]
  },
  {
   "cell_type": "code",
   "execution_count": null,
   "metadata": {},
   "outputs": [],
   "source": [
    "sup_dict = {'title': sup_title, 'abs': sup_abs, 'pub': None, 'doi': sup_doi, 'class': ['supply_more' for _ in range(len(sup_doi))]}\n",
    "sup_df = pd.DataFrame(sup_dict)\n",
    "sup_df.head()"
   ]
  },
  {
   "cell_type": "code",
   "execution_count": 29,
   "metadata": {},
   "outputs": [],
   "source": [
    "sup_df.to_csv(\"./abs_data/supplied_abs.csv\", index=False)"
   ]
  },
  {
   "cell_type": "code",
   "execution_count": 23,
   "metadata": {},
   "outputs": [],
   "source": [
    "# sup_list = []\n",
    "# for abs in sup_df['abs']:\n",
    "#     sup_list.append(split_into_sentences(abs))\n",
    "# tokenized_sup_list = [tokenize_sentences(sup, tokenizer, max_length) for sup in sup_list]\n",
    "# emb_sup_list = [get_sum_hidden_emb(tokenized_sup, model) for tokenized_sup in tokenized_sup_list]"
   ]
  },
  {
   "cell_type": "code",
   "execution_count": 22,
   "metadata": {},
   "outputs": [],
   "source": [
    "# torch.save(emb_sup_list, './embs/sup_list.pt')\n",
    "emb_sup_list = torch.load('./embs/sup_list.pt')"
   ]
  },
  {
   "cell_type": "code",
   "execution_count": 25,
   "metadata": {},
   "outputs": [],
   "source": [
    "# # save emb\n",
    "# torch.save(emb_lissa_list, './embs/lissa_list.pt')\n",
    "# torch.save(emb_ir1_list, './embs/ir1_list.pt')\n",
    "# torch.save(emb_ir2_list, './embs/ir2_list.pt')"
   ]
  },
  {
   "cell_type": "code",
   "execution_count": 23,
   "metadata": {},
   "outputs": [],
   "source": [
    "# release memory\n",
    "del tokenizer, model"
   ]
  },
  {
   "attachments": {},
   "cell_type": "markdown",
   "metadata": {},
   "source": [
    "# 3. Create Labeled Dataset"
   ]
  },
  {
   "cell_type": "code",
   "execution_count": 24,
   "metadata": {},
   "outputs": [],
   "source": [
    "from torch.utils.data import Dataset\n",
    "from torch.utils.data import DataLoader\n",
    "class AbstractDataset(Dataset):\n",
    "    def __init__(self, emb_nas_list, emb_lis_list, emb_sa_list, emb_lissa_list,\n",
    "                       emb_ir1_list, emb_ir2_list, emb_nssup_list, emb_npsup_list, emb_othersup_list) -> None:\n",
    "        # create labels\n",
    "        label_nas = torch.full([len(emb_nas_list) + len(emb_nssup_list) + len(emb_npsup_list) + len(emb_othersup_list)], 0)\n",
    "        label_lis = torch.full([len(emb_lis_list)], 1)\n",
    "        label_sa = torch.full([len(emb_sa_list)], 2)\n",
    "        label_lissa = torch.full([len(emb_lissa_list)], 3)\n",
    "        label_ir1 = torch.full([len(emb_ir1_list)], 4)\n",
    "        label_ir2 = torch.full([len(emb_ir2_list)], 5)\n",
    "        self.labels = torch.cat([label_nas, label_lis, label_sa, label_lissa, label_ir1, label_ir2])\n",
    "        # data\n",
    "        emb_nas = torch.stack(emb_nas_list)\n",
    "        emb_nssup = torch.stack(emb_nssup_list)\n",
    "        emb_npsup = torch.stack(emb_npsup_list)\n",
    "        emb_othersup = torch.stack(emb_othersup_list)\n",
    "        emb_lis = torch.stack(emb_lis_list)\n",
    "        emb_sa = torch.stack(emb_sa_list)\n",
    "        emb_lissa = torch.stack(emb_lissa_list)\n",
    "        emb_ir1 = torch.stack(emb_ir1_list)\n",
    "        emb_ir2 = torch.stack(emb_ir2_list)\n",
    "        self.data = torch.cat([emb_nas, emb_nssup, emb_npsup, emb_othersup, emb_lis, emb_sa, emb_lissa, emb_ir1, emb_ir2])\n",
    "    \n",
    "    def __len__(self):\n",
    "        return self.data.shape[0]\n",
    "    \n",
    "    def __getitem__(self, index):\n",
    "        return self.data[index], self.labels[index]     "
   ]
  },
  {
   "cell_type": "code",
   "execution_count": 25,
   "metadata": {},
   "outputs": [
    {
     "data": {
      "text/plain": [
       "3666"
      ]
     },
     "execution_count": 25,
     "metadata": {},
     "output_type": "execute_result"
    }
   ],
   "source": [
    "dataset = AbstractDataset(emb_nas_list, emb_lis_list, emb_sa_list, emb_lissa_list, emb_ir1_list, emb_ir2_list, emb_nssup_list, emb_npsup_list, emb_othersup_list)\n",
    "len(dataset)"
   ]
  },
  {
   "cell_type": "code",
   "execution_count": 26,
   "metadata": {},
   "outputs": [],
   "source": [
    "# split train, test set\n",
    "from sklearn.model_selection import train_test_split\n",
    "\n",
    "def gen_train_test_idxs(offset, cls_idxs, test_rate=0, train_test_num={}):\n",
    "    if test_rate > 0:\n",
    "        train_idxs, test_idxs = train_test_split(cls_idxs, test_size=test_rate)\n",
    "    else:\n",
    "        train_idxs, test_idxs = train_test_split(cls_idxs, train_size = train_test_num['train'], test_size = train_test_num['test'])\n",
    "    print(\"Train size: {tr} | Test size: {te}\".format(tr=len(train_idxs), te=len(test_idxs)))\n",
    "    return [idx + offset for idx in train_idxs], [idx + offset for idx in test_idxs]"
   ]
  },
  {
   "cell_type": "code",
   "execution_count": 27,
   "metadata": {},
   "outputs": [
    {
     "name": "stdout",
     "output_type": "stream",
     "text": [
      "Train size: 209 | Test size: 24\n",
      "Train size: 267 | Test size: 30\n",
      "Train size: 270 | Test size: 30\n",
      "Train size: 72 | Test size: 9\n",
      "Train size: 270 | Test size: 30\n",
      "Train size: 270 | Test size: 30\n"
     ]
    }
   ],
   "source": [
    "# each class has a maximun number of 300\n",
    "start_offset = 0\n",
    "cut_points = []\n",
    "train_idxs, val_idxs = [], []\n",
    "# nas\n",
    "temp_train, temp_test = gen_train_test_idxs(start_offset, list(range(len(emb_nas_list) + len(emb_nssup_list) + len(emb_npsup_list) + len(emb_othersup_list))), test_rate=0.1)\n",
    "train_idxs += temp_train\n",
    "val_idxs += temp_test\n",
    "cut_points.append([start_offset, start_offset + len(emb_nas_list) + len(emb_nssup_list) + len(emb_npsup_list) + len(emb_othersup_list)])\n",
    "start_offset += len(emb_nas_list)\n",
    "# lis\n",
    "temp_train, temp_test = gen_train_test_idxs(start_offset, list(range(len(emb_lis_list))), test_rate=0.1)\n",
    "train_idxs += temp_train\n",
    "val_idxs += temp_test\n",
    "cut_points.append([start_offset, start_offset + len(emb_lis_list)])\n",
    "start_offset += len(emb_lis_list)\n",
    "# sa\n",
    "temp_train, temp_test = gen_train_test_idxs(start_offset, list(range(len(emb_sa_list))), train_test_num={'train': 270, 'test':30})\n",
    "train_idxs += temp_train\n",
    "val_idxs += temp_test\n",
    "cut_points.append([start_offset, start_offset + len(emb_sa_list)])\n",
    "start_offset += len(emb_sa_list)\n",
    "# lissa\n",
    "temp_train, temp_test = gen_train_test_idxs(start_offset, list(range(len(emb_lissa_list))), test_rate=0.1)\n",
    "train_idxs += temp_train\n",
    "val_idxs += temp_test\n",
    "cut_points.append([start_offset, start_offset + len(emb_lissa_list)])\n",
    "start_offset += len(emb_lissa_list)\n",
    "# ir1\n",
    "temp_train, temp_test = gen_train_test_idxs(start_offset, list(range(len(emb_ir1_list))), train_test_num={'train': 270, 'test':30})\n",
    "train_idxs += temp_train\n",
    "val_idxs += temp_test\n",
    "cut_points.append([start_offset, start_offset + len(emb_ir1_list)])\n",
    "start_offset += len(emb_ir1_list)\n",
    "# ir2\n",
    "temp_train, temp_test = gen_train_test_idxs(start_offset, list(range(len(emb_ir2_list))), train_test_num={'train': 270, 'test':30})\n",
    "train_idxs += temp_train\n",
    "val_idxs += temp_test\n",
    "cut_points.append([start_offset, start_offset + len(emb_ir2_list)])\n",
    "start_offset += len(emb_ir2_list)"
   ]
  },
  {
   "cell_type": "code",
   "execution_count": 28,
   "metadata": {},
   "outputs": [
    {
     "data": {
      "text/plain": [
       "(1358, 153)"
      ]
     },
     "execution_count": 28,
     "metadata": {},
     "output_type": "execute_result"
    }
   ],
   "source": [
    "len(train_idxs), len(val_idxs)"
   ]
  },
  {
   "attachments": {},
   "cell_type": "markdown",
   "metadata": {},
   "source": [
    "# 4. Train MLP for Augmented Embeddings"
   ]
  },
  {
   "cell_type": "code",
   "execution_count": 29,
   "metadata": {},
   "outputs": [],
   "source": [
    "import torch.nn as nn\n",
    "class MLP(nn.Module):\n",
    "    def __init__(self, num_layers, input_dim, hidden_dim, output_dim, dropout=0):\n",
    "        super().__init__()\n",
    "        self.linears = nn.ModuleList()\n",
    "        self.linears.append(nn.Linear(input_dim, hidden_dim, bias=False))\n",
    "        for _ in range(num_layers-2):\n",
    "            self.linears.append(nn.Linear(hidden_dim, hidden_dim, bias=False))\n",
    "        self.linears.append(nn.Linear(hidden_dim, output_dim, bias=False))\n",
    "        self.dropout = nn.Dropout(dropout)\n",
    "        # self.batch_norm = nn.BatchNorm1d((hidden_dim))\n",
    "\n",
    "    def forward(self, x):\n",
    "        h = x\n",
    "        for layer in self.linears[:-1]:\n",
    "            h = F.relu(layer(self.dropout(h)))\n",
    "        # output layer\n",
    "        out = self.linears[-1](h)\n",
    "        return out\n",
    "    \n",
    "    def retrieve_emb(self, x):\n",
    "        h = x\n",
    "        for layer in self.linears[:-1]:\n",
    "            h = F.relu(layer(h))\n",
    "        return h"
   ]
  },
  {
   "cell_type": "code",
   "execution_count": 30,
   "metadata": {},
   "outputs": [],
   "source": [
    "import torch.optim as optim\n",
    "\n",
    "class EarlyStopping:\n",
    "    def __init__(self, patience=10, name='', base='./mlp_models/'):\n",
    "        self.patience = patience\n",
    "        self.counter = 0\n",
    "        self.best_score = None\n",
    "        self.early_stop = False\n",
    "        self.name = name\n",
    "        self.base = base\n",
    "\n",
    "    def step(self, acc, model):\n",
    "        score = acc\n",
    "        if self.best_score is None:\n",
    "            self.best_score = score\n",
    "            self.save_checkpoint(model)\n",
    "        elif score < self.best_score:\n",
    "            self.counter += 1\n",
    "            print(f'EarlyStopping counter: {self.counter} out of {self.patience}')\n",
    "            if self.counter >= self.patience:\n",
    "                self.early_stop = True\n",
    "        else:\n",
    "            self.best_score = score\n",
    "            self.save_checkpoint(model)\n",
    "            self.counter = 0\n",
    "        return self.early_stop\n",
    "\n",
    "    def save_checkpoint(self, model):\n",
    "        '''Saves model when validation loss decrease.'''\n",
    "        torch.save(model.state_dict(), self.base + self.name + '_checkpoint.pt')\n",
    "\n",
    "def evaluate(dataloader, model):\n",
    "    model.eval()\n",
    "    total = 0\n",
    "    total_correct = 0\n",
    "    for batched_data, labels in dataloader:\n",
    "        total += len(labels)\n",
    "        logits = model(batched_data)\n",
    "        _, predicted = torch.max(logits, 1)\n",
    "        total_correct += (predicted == labels).sum().item()\n",
    "    acc = 1.0 * total_correct / total\n",
    "    return acc\n",
    "\n",
    "def train(model, train_loader, val_loader, epochs, lr=0.01, verbose=True, stopper=None):\n",
    "    loss_fcn = nn.CrossEntropyLoss()\n",
    "    optimizer = optim.Adam(model.parameters(), lr=lr)\n",
    "    scheduler = optim.lr_scheduler.StepLR(optimizer, step_size=15, gamma=0.5)\n",
    "\n",
    "    loss_values = []\n",
    "    train_acc_values = []\n",
    "    val_acc_values = []\n",
    "    \n",
    "    for epoch in range(epochs):\n",
    "        model.train()\n",
    "        total_loss = 0\n",
    "        for batch, (batched_data, labels) in enumerate(train_loader):\n",
    "            logits = model(batched_data)\n",
    "            loss = loss_fcn(logits, labels)\n",
    "            optimizer.zero_grad()\n",
    "            loss.backward()\n",
    "            optimizer.step()\n",
    "            total_loss += loss.item()\n",
    "        scheduler.step()\n",
    "        train_acc = evaluate(train_loader, model)\n",
    "        valid_acc = evaluate(val_loader, model)\n",
    "        loss_values.append(total_loss / (batch + 1))\n",
    "        train_acc_values.append(train_acc)\n",
    "        val_acc_values.append(valid_acc)\n",
    "        if verbose:\n",
    "            print(\n",
    "                \"Epoch {:05d} | Loss {:.4f} | Train Acc. {:.4f} | Validation Acc. {:.4f} \".format(\n",
    "                    epoch, total_loss / (batch + 1), train_acc, valid_acc\n",
    "                )\n",
    "            )\n",
    "        if stopper is not None:\n",
    "            if stopper.step(valid_acc, model):\n",
    "                break\n",
    "    \n",
    "    return loss_values, train_acc_values, val_acc_values\n"
   ]
  },
  {
   "cell_type": "code",
   "execution_count": 31,
   "metadata": {},
   "outputs": [
    {
     "data": {
      "text/plain": [
       "MLP(\n",
       "  (linears): ModuleList(\n",
       "    (0): Linear(in_features=98304, out_features=128, bias=False)\n",
       "    (1): Linear(in_features=128, out_features=128, bias=False)\n",
       "    (2): Linear(in_features=128, out_features=128, bias=False)\n",
       "    (3): Linear(in_features=128, out_features=6, bias=False)\n",
       "  )\n",
       "  (dropout): Dropout(p=0, inplace=False)\n",
       ")"
      ]
     },
     "execution_count": 31,
     "metadata": {},
     "output_type": "execute_result"
    }
   ],
   "source": [
    "from datetime import datetime\n",
    "n_layer = 4\n",
    "in_dim = emb_sa_list[0].shape[0]\n",
    "out_dim = 6\n",
    "hidden_dim = 128\n",
    "\n",
    "name = datetime.now().strftime('%Y-%m-%d %H:%M:%S')\n",
    "early_stop = EarlyStopping(patience=15, name=name)\n",
    "\n",
    "# del mlp\n",
    "mlp = MLP(n_layer, in_dim, hidden_dim, out_dim, dropout=0)\n",
    "mlp"
   ]
  },
  {
   "cell_type": "code",
   "execution_count": 32,
   "metadata": {},
   "outputs": [],
   "source": [
    "from torch.utils.data.sampler import SubsetRandomSampler\n",
    "train_dataloader = DataLoader(dataset, sampler=SubsetRandomSampler(train_idxs), batch_size=64)\n",
    "test_dataloader = DataLoader(dataset, sampler=SubsetRandomSampler(val_idxs), batch_size=64)\n",
    "# train_dataloader = DataLoader(dataset, sampler=SubsetRandomSampler([0,1,2]), batch_size=1)\n",
    "# test_dataloader = DataLoader(dataset, sampler=SubsetRandomSampler([8,24]), batch_size=1)"
   ]
  },
  {
   "cell_type": "code",
   "execution_count": 77,
   "metadata": {},
   "outputs": [
    {
     "name": "stdout",
     "output_type": "stream",
     "text": [
      "Epoch 00000 | Loss 55.3923 | Train Acc. 0.2371 | Validation Acc. 0.2745 \n",
      "Epoch 00001 | Loss 1.6214 | Train Acc. 0.5155 | Validation Acc. 0.4902 \n",
      "Epoch 00002 | Loss 0.8891 | Train Acc. 0.7062 | Validation Acc. 0.6732 \n",
      "Epoch 00003 | Loss 0.6136 | Train Acc. 0.6325 | Validation Acc. 0.5948 \n",
      "EarlyStopping counter: 1 out of 15\n",
      "Epoch 00004 | Loss 0.6313 | Train Acc. 0.7835 | Validation Acc. 0.7843 \n",
      "Epoch 00005 | Loss 0.3704 | Train Acc. 0.9168 | Validation Acc. 0.8039 \n",
      "Epoch 00006 | Loss 0.2739 | Train Acc. 0.9374 | Validation Acc. 0.8301 \n",
      "Epoch 00007 | Loss 0.2632 | Train Acc. 0.9315 | Validation Acc. 0.8693 \n",
      "Epoch 00008 | Loss 0.2644 | Train Acc. 0.9448 | Validation Acc. 0.7712 \n",
      "EarlyStopping counter: 1 out of 15\n",
      "Epoch 00009 | Loss 0.1742 | Train Acc. 0.9433 | Validation Acc. 0.8235 \n",
      "EarlyStopping counter: 2 out of 15\n",
      "Epoch 00010 | Loss 0.1069 | Train Acc. 0.9521 | Validation Acc. 0.8170 \n",
      "EarlyStopping counter: 3 out of 15\n",
      "Epoch 00011 | Loss 0.1772 | Train Acc. 0.7990 | Validation Acc. 0.6536 \n",
      "EarlyStopping counter: 4 out of 15\n",
      "Epoch 00012 | Loss 0.2201 | Train Acc. 0.8844 | Validation Acc. 0.7386 \n",
      "EarlyStopping counter: 5 out of 15\n",
      "Epoch 00013 | Loss 0.1706 | Train Acc. 0.9772 | Validation Acc. 0.8170 \n",
      "EarlyStopping counter: 6 out of 15\n",
      "Epoch 00014 | Loss 0.0747 | Train Acc. 0.9948 | Validation Acc. 0.8431 \n",
      "EarlyStopping counter: 7 out of 15\n",
      "Epoch 00015 | Loss 0.0431 | Train Acc. 0.9948 | Validation Acc. 0.9085 \n",
      "Epoch 00016 | Loss 0.0215 | Train Acc. 0.9971 | Validation Acc. 0.8954 \n",
      "EarlyStopping counter: 1 out of 15\n",
      "Epoch 00017 | Loss 0.0121 | Train Acc. 0.9978 | Validation Acc. 0.8824 \n",
      "EarlyStopping counter: 2 out of 15\n",
      "Epoch 00018 | Loss 0.0101 | Train Acc. 0.9963 | Validation Acc. 0.8105 \n",
      "EarlyStopping counter: 3 out of 15\n",
      "Epoch 00019 | Loss 0.0154 | Train Acc. 0.9971 | Validation Acc. 0.8235 \n",
      "EarlyStopping counter: 4 out of 15\n",
      "Epoch 00020 | Loss 0.0167 | Train Acc. 0.9978 | Validation Acc. 0.8431 \n",
      "EarlyStopping counter: 5 out of 15\n",
      "Epoch 00021 | Loss 0.0083 | Train Acc. 0.9978 | Validation Acc. 0.8301 \n",
      "EarlyStopping counter: 6 out of 15\n",
      "Epoch 00022 | Loss 0.0066 | Train Acc. 0.9985 | Validation Acc. 0.8824 \n",
      "EarlyStopping counter: 7 out of 15\n",
      "Epoch 00023 | Loss 0.0087 | Train Acc. 0.9993 | Validation Acc. 0.8889 \n",
      "EarlyStopping counter: 8 out of 15\n",
      "Epoch 00024 | Loss 0.0053 | Train Acc. 0.9985 | Validation Acc. 0.8105 \n",
      "EarlyStopping counter: 9 out of 15\n",
      "Epoch 00025 | Loss 0.0086 | Train Acc. 0.9993 | Validation Acc. 0.8627 \n",
      "EarlyStopping counter: 10 out of 15\n",
      "Epoch 00026 | Loss 0.0056 | Train Acc. 0.9993 | Validation Acc. 0.8824 \n",
      "EarlyStopping counter: 11 out of 15\n",
      "Epoch 00027 | Loss 0.0040 | Train Acc. 0.9993 | Validation Acc. 0.8693 \n",
      "EarlyStopping counter: 12 out of 15\n",
      "Epoch 00028 | Loss 0.0056 | Train Acc. 0.9985 | Validation Acc. 0.8562 \n",
      "EarlyStopping counter: 13 out of 15\n",
      "Epoch 00029 | Loss 0.0077 | Train Acc. 0.9993 | Validation Acc. 0.8954 \n",
      "EarlyStopping counter: 14 out of 15\n",
      "Epoch 00030 | Loss 0.0042 | Train Acc. 0.9993 | Validation Acc. 0.8693 \n",
      "EarlyStopping counter: 15 out of 15\n"
     ]
    }
   ],
   "source": [
    "epochs = 100\n",
    "loss_values, train_acc_values, val_acc_values = train(mlp, train_dataloader, test_dataloader, epochs, stopper=early_stop, lr=0.01)"
   ]
  },
  {
   "cell_type": "code",
   "execution_count": null,
   "metadata": {},
   "outputs": [
    {
     "data": {
      "text/plain": [
       "0.8823529411764706"
      ]
     },
     "execution_count": 45,
     "metadata": {},
     "output_type": "execute_result"
    }
   ],
   "source": [
    "mlp.load_state_dict(torch.load('./mlp_models/' + name +  '_checkpoint.pt'))\n",
    "evaluate(test_dataloader, mlp)"
   ]
  },
  {
   "attachments": {},
   "cell_type": "markdown",
   "metadata": {},
   "source": [
    "# loss plot"
   ]
  },
  {
   "cell_type": "code",
   "execution_count": null,
   "metadata": {},
   "outputs": [
    {
     "data": {
      "image/png": "[encoded data removed]",
      "text/plain": [
       "<Figure size 640x480 with 2 Axes>"
      ]
     },
     "metadata": {},
     "output_type": "display_data"
    }
   ],
   "source": [
    "import matplotlib.pyplot as plt\n",
    "\n",
    "epochs = range(len(loss_values))\n",
    "\n",
    "fig, ax1 = plt.subplots()\n",
    "\n",
    "color = 'tab:red'\n",
    "ax1.set_xlabel('Epochs')\n",
    "ax1.set_ylabel('Loss', color=color)\n",
    "ax1.plot(epochs, loss_values, color=color)\n",
    "ax1.tick_params(axis='y', labelcolor=color)\n",
    "\n",
    "ax2 = ax1.twinx()\n",
    "\n",
    "color = 'tab:blue'\n",
    "ax2.set_ylabel('Accuracy', color=color)\n",
    "ax2.plot(epochs, train_acc_values, color=color, label='Train Accuracy')\n",
    "ax2.plot(epochs, val_acc_values, color=color, label='Validation Accuracy', linestyle='--')\n",
    "ax2.tick_params(axis='y', labelcolor=color)\n",
    "\n",
    "plt.title('Loss and Accuracy vs. Epochs')\n",
    "plt.legend(loc='best')\n",
    "\n",
    "plt.savefig('./save_files/loss_acc_plot.png', dpi=300)\n",
    "\n",
    "plt.show()\n"
   ]
  },
  {
   "cell_type": "code",
   "execution_count": null,
   "metadata": {},
   "outputs": [],
   "source": [
    "import csv\n",
    "\n",
    "with open('./save_files/loss_acc_values.csv', 'w', newline='') as csvfile:\n",
    "    writer = csv.writer(csvfile)\n",
    "    writer.writerow(['Epoch', 'Loss', 'Train Accuracy', 'Validation Accuracy'])\n",
    "    for i in range(len(loss_values)):\n",
    "        writer.writerow([i, loss_values[i], train_acc_values[i], val_acc_values[i]])\n"
   ]
  },
  {
   "attachments": {},
   "cell_type": "markdown",
   "metadata": {},
   "source": [
    "## Metrics records"
   ]
  },
  {
   "cell_type": "code",
   "execution_count": null,
   "metadata": {},
   "outputs": [],
   "source": [
    "from sklearn import metrics"
   ]
  },
  {
   "cell_type": "code",
   "execution_count": null,
   "metadata": {},
   "outputs": [],
   "source": [
    "mlp.eval()\n",
    "feats, labels = dataset[val_idxs]\n",
    "logits = mlp(feats)\n",
    "_, preds = torch.max(logits, 1)"
   ]
  },
  {
   "cell_type": "code",
   "execution_count": null,
   "metadata": {},
   "outputs": [],
   "source": [
    "np_logits = logits.detach().softmax(dim=1).numpy()"
   ]
  },
  {
   "cell_type": "code",
   "execution_count": null,
   "metadata": {},
   "outputs": [
    {
     "data": {
      "text/plain": [
       "(0.7584351706339528, 0.6862745098039216, 0.7142846639020763, None)"
      ]
     },
     "execution_count": 33,
     "metadata": {},
     "output_type": "execute_result"
    }
   ],
   "source": [
    "metrics.precision_recall_fscore_support(labels, preds, average='weighted')"
   ]
  },
  {
   "cell_type": "code",
   "execution_count": null,
   "metadata": {},
   "outputs": [
    {
     "data": {
      "text/plain": [
       "0.9584567901234567"
      ]
     },
     "execution_count": 100,
     "metadata": {},
     "output_type": "execute_result"
    }
   ],
   "source": [
    "# AUROC\n",
    "metrics.roc_auc_score(labels, np_logits, multi_class='ovo')"
   ]
  },
  {
   "cell_type": "code",
   "execution_count": null,
   "metadata": {},
   "outputs": [],
   "source": [
    "aupr_labels = torch.zeros(labels.shape[0], 6)\n",
    "for i, label in enumerate(labels):\n",
    "    aupr_labels[i][label] = 1\n",
    "aupr_labels = aupr_labels.numpy()"
   ]
  },
  {
   "cell_type": "code",
   "execution_count": null,
   "metadata": {},
   "outputs": [
    {
     "name": "stdout",
     "output_type": "stream",
     "text": [
      "Average precision score, micro-averaged over all classes: 0.9151\n"
     ]
    }
   ],
   "source": [
    "# AUPR\n",
    "from sklearn.metrics import precision_recall_curve\n",
    "from sklearn.metrics import average_precision_score\n",
    "\n",
    "# For each class\n",
    "precision = dict()\n",
    "recall = dict()\n",
    "average_precision = dict()\n",
    "for i in range(6):\n",
    "    precision[i], recall[i], _ = precision_recall_curve(aupr_labels[:, i],\n",
    "                                                        np_logits[:, i])\n",
    "    average_precision[i] = average_precision_score(aupr_labels[:, i], np_logits[:, i])\n",
    "\n",
    "# A \"micro-average\": quantifying score on all classes jointly\n",
    "precision[\"micro\"], recall[\"micro\"], _ = precision_recall_curve(aupr_labels.ravel(),\n",
    "    np_logits.ravel())\n",
    "average_precision[\"micro\"] = average_precision_score(aupr_labels, np_logits,\n",
    "                                                     average=\"micro\")\n",
    "print('Average precision score, micro-averaged over all classes: {0:0.4f}'\n",
    "      .format(average_precision[\"micro\"]))"
   ]
  },
  {
   "cell_type": "code",
   "execution_count": null,
   "metadata": {},
   "outputs": [
    {
     "data": {
      "text/plain": [
       "0.9150790237341047"
      ]
     },
     "execution_count": 103,
     "metadata": {},
     "output_type": "execute_result"
    }
   ],
   "source": [
    "average_precision[\"micro\"]"
   ]
  },
  {
   "attachments": {},
   "cell_type": "markdown",
   "metadata": {},
   "source": [
    "# confusion matrix"
   ]
  },
  {
   "cell_type": "code",
   "execution_count": null,
   "metadata": {},
   "outputs": [],
   "source": [
    "from sklearn.metrics import confusion_matrix\n",
    "cf_mat = confusion_matrix(labels, preds)"
   ]
  },
  {
   "cell_type": "code",
   "execution_count": null,
   "metadata": {},
   "outputs": [
    {
     "data": {
      "text/plain": [
       "array([[15,  4,  0,  0,  1,  1],\n",
       "       [ 5, 23,  2,  0,  0,  0],\n",
       "       [ 0,  1, 28,  1,  0,  0],\n",
       "       [ 2,  5,  1,  1,  0,  0],\n",
       "       [ 0,  0,  0,  0, 29,  1],\n",
       "       [ 0,  0,  0,  0,  1, 29]])"
      ]
     },
     "execution_count": 61,
     "metadata": {},
     "output_type": "execute_result"
    }
   ],
   "source": [
    "cf_mat"
   ]
  },
  {
   "cell_type": "code",
   "execution_count": null,
   "metadata": {},
   "outputs": [],
   "source": [
    "pd.DataFrame(cf_mat).to_csv(\"./save_files/confusion_matrix.csv\")"
   ]
  },
  {
   "attachments": {},
   "cell_type": "markdown",
   "metadata": {},
   "source": [
    "## save MLP embbeddings"
   ]
  },
  {
   "cell_type": "code",
   "execution_count": 41,
   "metadata": {},
   "outputs": [],
   "source": [
    "def get_x(dataset, cut_point):\n",
    "    x, _ = dataset[cut_point[0]: cut_point[1]]\n",
    "    return x\n",
    "def save_MLP_emb(mlp, dataset, cut_point, name):\n",
    "    mlp.eval()\n",
    "    with torch.no_grad():\n",
    "        x = get_x(dataset, cut_point)\n",
    "        emb = mlp.retrieve_emb(x)\n",
    "        torch.save(emb, \"./embs/\" + name)\n",
    "        return emb"
   ]
  },
  {
   "cell_type": "code",
   "execution_count": 42,
   "metadata": {},
   "outputs": [
    {
     "data": {
      "text/plain": [
       "<All keys matched successfully>"
      ]
     },
     "execution_count": 42,
     "metadata": {},
     "output_type": "execute_result"
    }
   ],
   "source": [
    "mlp.load_state_dict(torch.load(\"./mlp_models/084valacc.pt\"))"
   ]
  },
  {
   "cell_type": "code",
   "execution_count": 43,
   "metadata": {},
   "outputs": [
    {
     "data": {
      "text/plain": [
       "tensor([[ 0.0000,  0.0000,  0.0000,  ...,  7.9829,  0.0000,  0.0000],\n",
       "        [ 0.0000,  0.0000,  0.0000,  ..., 24.0979,  0.0000,  0.0000],\n",
       "        [ 0.0000,  0.0000,  0.0000,  ..., 17.1625,  0.0000,  0.0000],\n",
       "        ...,\n",
       "        [ 0.0000,  0.0000,  0.0000,  ...,  0.0000,  0.0000,  0.0000],\n",
       "        [ 0.0000,  0.0000,  0.0000,  ...,  0.0000,  0.0000,  0.0000],\n",
       "        [ 0.0000,  0.0000,  0.0000,  ...,  0.0000,  0.0000,  0.0000]])"
      ]
     },
     "execution_count": 43,
     "metadata": {},
     "output_type": "execute_result"
    }
   ],
   "source": [
    "# nas\n",
    "save_MLP_emb(mlp, dataset, cut_points[0], name=\"mlp_84_nas.pt\")\n",
    "# lis\n",
    "save_MLP_emb(mlp, dataset, cut_points[1], name=\"mlp_84_lis.pt\")\n",
    "# sa\n",
    "save_MLP_emb(mlp, dataset, cut_points[2], name=\"mlp_84_sa.pt\")\n",
    "# lissa\n",
    "save_MLP_emb(mlp, dataset, cut_points[3], name=\"mlp_84_lissa.pt\")\n",
    "# ir1\n",
    "save_MLP_emb(mlp, dataset, cut_points[4], name=\"mlp_84_ir1.pt\")\n",
    "# ir2\n",
    "save_MLP_emb(mlp, dataset, cut_points[5], name=\"mlp_84_ir2.pt\")"
   ]
  },
  {
   "attachments": {},
   "cell_type": "markdown",
   "metadata": {},
   "source": [
    "# load trained MLP "
   ]
  },
  {
   "cell_type": "code",
   "execution_count": 44,
   "metadata": {},
   "outputs": [],
   "source": [
    "del mlp"
   ]
  },
  {
   "cell_type": "code",
   "execution_count": 45,
   "metadata": {},
   "outputs": [],
   "source": [
    "n_layer = 4\n",
    "in_dim = emb_nssup_list[0].shape[0]\n",
    "out_dim = 6\n",
    "hidden_dim = 128\n",
    "\n",
    "mlp = MLP(n_layer, in_dim, hidden_dim, out_dim, dropout=0)"
   ]
  },
  {
   "cell_type": "code",
   "execution_count": 46,
   "metadata": {},
   "outputs": [
    {
     "data": {
      "text/plain": [
       "<All keys matched successfully>"
      ]
     },
     "execution_count": 46,
     "metadata": {},
     "output_type": "execute_result"
    }
   ],
   "source": [
    "# mlp.load_state_dict(torch.load('./mlp_models/084valacc.pt'))"
   ]
  },
  {
   "cell_type": "code",
   "execution_count": 37,
   "metadata": {},
   "outputs": [
    {
     "data": {
      "text/plain": [
       "torch.Size([5, 98304])"
      ]
     },
     "execution_count": 37,
     "metadata": {},
     "output_type": "execute_result"
    }
   ],
   "source": [
    "# save nassa emb\n",
    "emb_nassa = torch.stack(emb_nas_sa_list)\n",
    "emb_nassa.shape"
   ]
  },
  {
   "cell_type": "code",
   "execution_count": 44,
   "metadata": {},
   "outputs": [],
   "source": [
    "mlp.eval()\n",
    "with torch.no_grad():\n",
    "    emb = mlp.retrieve_emb(emb_nassa)\n",
    "    torch.save(emb, './embs/mlp_84_nassa.pt')"
   ]
  },
  {
   "cell_type": "code",
   "execution_count": 45,
   "metadata": {},
   "outputs": [],
   "source": [
    "mlp.eval()\n",
    "with torch.no_grad():\n",
    "    emb_sup = torch.stack(emb_sup_list)\n",
    "    torch.save(mlp.retrieve_emb(emb_sup), './embs/mlp_84_sup.pt')"
   ]
  },
  {
   "cell_type": "code",
   "execution_count": 46,
   "metadata": {},
   "outputs": [],
   "source": [
    "mlp.eval()\n",
    "with torch.no_grad():\n",
    "    emb_nssup = torch.stack(emb_nssup_list)\n",
    "    torch.save(mlp.retrieve_emb(emb_nssup), './embs/mlp_84_nssup.pt')\n",
    "    emb_npsup = torch.stack(emb_npsup_list)\n",
    "    torch.save(mlp.retrieve_emb(emb_npsup), './embs/mlp_84_npsup.pt')\n",
    "    emb_othersup = torch.stack(emb_othersup_list)\n",
    "    torch.save(mlp.retrieve_emb(emb_othersup), './embs/mlp_84_othersup.pt')"
   ]
  },
  {
   "cell_type": "code",
   "execution_count": null,
   "metadata": {},
   "outputs": [],
   "source": []
  }
 ],
 "metadata": {
  "kernelspec": {
   "display_name": "Python 3.7.13 ('matscibert')",
   "language": "python",
   "name": "python3"
  },
  "language_info": {
   "codemirror_mode": {
    "name": "ipython",
    "version": 3
   },
   "file_extension": ".py",
   "mimetype": "text/x-python",
   "name": "python",
   "nbconvert_exporter": "python",
   "pygments_lexer": "ipython3",
   "version": "3.7.13"
  },
  "orig_nbformat": 4,
  "vscode": {
   "interpreter": {
    "hash": "cd95327b7c7cceca9cf309281dbc71e99bfcc59fee14e06289becc9905c21812"
   }
  }
 },
 "nbformat": 4,
 "nbformat_minor": 2
}
